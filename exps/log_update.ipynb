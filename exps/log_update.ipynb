{
 "cells": [
  {
   "cell_type": "code",
   "execution_count": null,
   "metadata": {},
   "outputs": [],
   "source": [
    "from gurobipy import norm\n",
    "import numpy as np\n",
    "\n",
    "from models.rooms import Model\n",
    "from utils.generic_model import GenericModel\n",
    "\n",
    "model = Model(100, 4)\n",
    "model.create_model(normalize_reward=True)\n",
    "model._model_to_numpy()"
   ]
  },
  {
   "cell_type": "code",
   "execution_count": 23,
   "metadata": {},
   "outputs": [],
   "source": [
    "model.reward_matrix += 1"
   ]
  },
  {
   "cell_type": "code",
   "execution_count": 31,
   "metadata": {},
   "outputs": [
    {
     "name": "stdout",
     "output_type": "stream",
     "text": [
      "[[ 7.70969661  8.7804878  10.          8.7804878   7.70969661  4.02374554\n",
      "   3.53304486  3.10218573  2.7238704   2.39169108]\n",
      " [ 6.76948971  7.70969661  8.7804878   7.70969661  6.76948971  4.58259909\n",
      "   4.02374554  3.53304486  3.10218573  2.7238704 ]\n",
      " [ 5.94394218  6.76948971  7.70969661  6.76948971  5.94394218  5.21907118\n",
      "   4.58259909  4.02374554  3.53304486  3.10218573]\n",
      " [ 5.21907118  5.94394218  6.76948971  5.94394218  5.21907118  4.58259909\n",
      "   4.02374554  3.53304486  3.10218573  2.7238704 ]\n",
      " [ 4.58259909  5.21907118  5.94394218  5.21907118  4.58259909  4.02374554\n",
      "   3.53304486  3.10218573  2.7238704   2.39169108]\n",
      " [ 4.02374554  4.58259909  5.21907118  4.58259909  4.02374554  2.10002144\n",
      "   2.39169108  2.7238704   2.39169108  2.10002144]\n",
      " [ 3.53304486  4.02374554  4.58259909  4.02374554  3.53304486  2.39169108\n",
      "   2.10002144  2.39169108  2.10002144  1.84392126]\n",
      " [ 3.10218573  3.53304486  4.02374554  3.53304486  3.10218573  2.7238704\n",
      "   2.39169108  2.10002144  1.84392126  1.61905282]\n",
      " [ 2.7238704   3.10218573  3.53304486  3.10218573  2.7238704   2.39169108\n",
      "   2.10002144  1.84392126  1.61905282  1.42160735]\n",
      " [ 2.39169108  2.7238704   3.10218573  2.7238704   2.39169108  2.10002144\n",
      "   1.84392126  1.61905282  1.42160735  1.2482406 ]]\n"
     ]
    }
   ],
   "source": [
    "def log_bellman_operator_numpy(model:GenericModel, log_value:np.ndarray, discount:float) -> np.ndarray:\n",
    "    value = np.exp(log_value)\n",
    "    q_value = model.reward_matrix + discount * model.transition_matrix.dot(value).T\n",
    "    q_value = np.log(q_value)\n",
    "    return np.max(q_value, axis=1)\n",
    "\n",
    "log_value = np.zeros(model.state_dim)\n",
    "discount = 0.9\n",
    "\n",
    "\n",
    "for i in range(1000):\n",
    "    log_value = log_bellman_operator_numpy(model, log_value, discount)\n",
    "\n",
    "print(np.exp(log_value).reshape((10, 10)))"
   ]
  },
  {
   "cell_type": "code",
   "execution_count": null,
   "metadata": {},
   "outputs": [],
   "source": []
  }
 ],
 "metadata": {
  "kernelspec": {
   "display_name": "marmote310",
   "language": "python",
   "name": "python3"
  },
  "language_info": {
   "codemirror_mode": {
    "name": "ipython",
    "version": 3
   },
   "file_extension": ".py",
   "mimetype": "text/x-python",
   "name": "python",
   "nbconvert_exporter": "python",
   "pygments_lexer": "ipython3",
   "version": "3.10.14"
  }
 },
 "nbformat": 4,
 "nbformat_minor": 2
}
