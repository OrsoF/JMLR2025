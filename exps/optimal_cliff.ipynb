{
 "cells": [
  {
   "cell_type": "code",
   "execution_count": 1,
   "id": "4f78d650",
   "metadata": {},
   "outputs": [
    {
     "name": "stderr",
     "output_type": "stream",
     "text": [
      "C:\\Users\\Orso\\AppData\\Local\\Temp\\ipykernel_9280\\66110500.py:40: UserWarning: FigureCanvasAgg is non-interactive, and thus cannot be shown\n",
      "  plt.show()\n"
     ]
    }
   ],
   "source": [
    "import numpy as np\n",
    "from models.cliff import Model\n",
    "\n",
    "model = Model(48, 4)\n",
    "model.create_model()\n",
    "\n",
    "from utils.exact_value_function import get_exact_value\n",
    "\n",
    "exact_value = get_exact_value(model, 0.9)\n",
    "\n",
    "exact_value = np.array(exact_value).reshape((4, 12))\n",
    "exact_value = np.flip(exact_value, 0)\n",
    "\n",
    "import seaborn as sns\n",
    "import matplotlib.pyplot as plt\n",
    "\n",
    "plt.clf()\n",
    "\n",
    "cmap = sns.color_palette(\"Spectral\", as_cmap=True)\n",
    "\n",
    "plt.figure(figsize=(12, 4))\n",
    "sns.heatmap(\n",
    "    exact_value,\n",
    "    annot=True,\n",
    "    # cmap=\"tab20\",\n",
    "    cmap=cmap,\n",
    "    linewidths=0.5,\n",
    "    linecolor=\"gray\",\n",
    "    # cbar=False,\n",
    "    xticklabels=False,\n",
    "    yticklabels=False,\n",
    "    annot_kws={\"size\": 20},\n",
    ")\n",
    "# plt.title(\"State Abstraction (Abstract State ID)\")\n",
    "# plt.xlabel(\"X Position\")\n",
    "# plt.ylabel(\"Y Position\")\n",
    "# plt.gca().invert_yaxis()  # Optional: so that (0,0) is at the bottom-left like in RL environments\n",
    "plt.tight_layout()\n",
    "plt.savefig(\"optimal_value_cliff.pdf\", bbox_inches='tight')\n",
    "plt.show()"
   ]
  },
  {
   "cell_type": "code",
   "execution_count": 28,
   "id": "2e3b7a3a",
   "metadata": {},
   "outputs": [
    {
     "name": "stderr",
     "output_type": "stream",
     "text": [
      "C:\\Users\\Orso\\AppData\\Local\\Temp\\ipykernel_9280\\3811707162.py:41: UserWarning: FigureCanvasAgg is non-interactive, and thus cannot be shown\n",
      "  plt.show()\n"
     ]
    }
   ],
   "source": [
    "import numpy as np\n",
    "from models.mountain import Model\n",
    "\n",
    "size = 200\n",
    "\n",
    "model = Model(size**2, 4)\n",
    "model.create_model()\n",
    "\n",
    "from utils.exact_value_function import get_exact_value\n",
    "\n",
    "exact_value = get_exact_value(model, 0.99)\n",
    "\n",
    "exact_value = np.array(exact_value).reshape((size, size))\n",
    "\n",
    "import seaborn as sns\n",
    "import matplotlib.pyplot as plt\n",
    "\n",
    "plt.clf()\n",
    "\n",
    "cmap = sns.color_palette(\"Spectral\", as_cmap=True)\n",
    "\n",
    "plt.figure(figsize=(10, 7))\n",
    "sns.heatmap(\n",
    "    exact_value,\n",
    "    # annot=True,\n",
    "    # cmap=\"tab20\",\n",
    "    cmap=cmap,\n",
    "    linewidths=0.5,\n",
    "    linecolor=\"gray\",\n",
    "    # cbar=False,\n",
    "    xticklabels=False,\n",
    "    yticklabels=False,\n",
    "    annot_kws={\"size\": 20},\n",
    ")\n",
    "# plt.title(\"State Abstraction (Abstract State ID)\")\n",
    "# plt.xlabel(\"X Position\")\n",
    "# plt.ylabel(\"Y Position\")\n",
    "# plt.gca().invert_yaxis()  # Optional: so that (0,0) is at the bottom-left like in RL environments\n",
    "plt.tight_layout()\n",
    "plt.savefig(\"optimal_value_mnt.pdf\", bbox_inches='tight')\n",
    "plt.show()"
   ]
  },
  {
   "cell_type": "code",
   "execution_count": 9,
   "id": "34653d72",
   "metadata": {},
   "outputs": [
    {
     "name": "stderr",
     "output_type": "stream",
     "text": [
      "C:\\Users\\Orso\\AppData\\Local\\Temp\\ipykernel_9280\\2993687216.py:3: UserWarning: FigureCanvasAgg is non-interactive, and thus cannot be shown\n",
      "  plt.show()\n"
     ]
    }
   ],
   "source": [
    "plt.matshow(exact_value)\n",
    "plt.savefig(\"optimal_value_mnt.pdf\", bbox_inches='tight')\n",
    "plt.show()"
   ]
  }
 ],
 "metadata": {
  "kernelspec": {
   "display_name": "base",
   "language": "python",
   "name": "python3"
  },
  "language_info": {
   "codemirror_mode": {
    "name": "ipython",
    "version": 3
   },
   "file_extension": ".py",
   "mimetype": "text/x-python",
   "name": "python",
   "nbconvert_exporter": "python",
   "pygments_lexer": "ipython3",
   "version": "3.12.3"
  }
 },
 "nbformat": 4,
 "nbformat_minor": 5
}
